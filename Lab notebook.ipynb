{
 "cells": [
  {
   "cell_type": "markdown",
   "metadata": {},
   "source": [
    "\n",
    "# <center>Lab Notebook</center>\n",
    "## Javier Palma Espinosa, Electrical Engineer\n",
    "\n",
    "### TODO\n",
    "* <s>entender cómo está construido modelo4r.hoc</s>\n",
    "* <s>entender código sac-red</s>\n",
    "* incorporar 2 tipos de bipolares con distinto perfil temporal\n",
    "* Escribir nuevo script para incluir la modificación del valor de tau en la alpha synapse\n",
    "* Code refractoring\n",
    "* Buscar parámetros de $\\tau$ en la literatura\n",
    "* Hacer documentación de código y code refractoring. Diego me sugirió que utilizara json como gestor de salida para parámetros\n",
    "\n",
    "### Avances\n",
    "#### 15 Nov 2016\n",
    "1. Analisis de poster-2015\n",
    "2. qué pasa con la DS modificando X factor en la red\n",
    "3. prototipar procesos paralelos y después montar en cluster\n",
    "  * repetir fig 1\n",
    "  * repetir con 1 sac en la red\n",
    "4. generar el heatmap\n",
    "\n",
    "#### 24 Nov 2016\n",
    "análisis y comentarios de net5module.py\n",
    "\n",
    "#### 7 de dic 2016\n",
    "Se realizaron las simulaciones empleando contsyn.mod\n",
    "\n",
    "#### 14 de dic 2016\n",
    "Se realizaron las simulaciones empleando aCsyn.mod\n",
    "\n",
    "#### 20 y 21 de dic 2016\n",
    "Modificación a los scripts que generan los outputs. Se crearon scipts para cada tipo de modelo de conductancia, pues era la opción más rápida para correr los códigos.  Se debe hacer una batería de experimentos. Se realizarán la próxima semana.\n"
   ]
  },
  {
   "cell_type": "markdown",
   "metadata": {
    "collapsed": true
   },
   "source": [
    "# <center>Avances al 14 de diciembre</center>\n",
    "Para verificar cómo modificaba la conductancia glutamatérgica a la selectividad de la dirección, fue necesario realizar dos simulaciones: usando sinapsis sinusoidal y usando sinapsis convolucional\n",
    "\n",
    "* La primera simulación fue usando la sinapsis de tipo sinuosidal \n",
    "$g=g_{min}+(g_{max}-g_{min}) \\sin(\\pi*(\\frac{t -t_{on}}{dur}))$ \n",
    "definida en contsyn.mod), barriendo conductancia y velocidades.  Los parámetros de la simulación están incluidos a continuación"
   ]
  },
  {
   "cell_type": "code",
   "execution_count": null,
   "metadata": {
    "collapsed": false
   },
   "outputs": [],
   "source": [
    "# %load ../experiments/sac-red/results/20161207/PARAMETERS_sinsyn.txt\n",
    "\t\t\t\t\t\t\t\tPARAMETERS\n",
    "\n",
    "'''\n",
    "DATA FILES\n",
    "'''\n",
    "\n",
    "CELL_GEOMETRY = \"../data/celldata04.txt\" \n",
    "GABA_SYN_INPUT = \"../data/syndata04.txt\"\n",
    "\n",
    "'''\n",
    "RECORDING\n",
    "'''\n",
    "Recorded_Amacrine_Cells=(13,19,83,89)\n",
    "\n",
    "'''\n",
    "NEURON SIMULATION OPTIONS\n",
    "'''\n",
    "h.tstop = 1500                  #simulation time in milliseconds\n",
    "h.CVode().active(1)\n",
    "h.cvode.atol(1e-5)\n",
    "h.v_init= -60                  #init voltage\n",
    "\n",
    "'''\n",
    "AMACRINES\n",
    "'''\n",
    "#nrow = 4 #número de SAC por fila\n",
    "#ncol = 5 #número de SAC por columna\n",
    "ndend = 4               # dendrites number\n",
    "dendseg = 3             # dendrites' segments\n",
    "diam_min = 0.5          # min dendrite diameter\n",
    "diam_max = 1.5          # max dendritic diam\n",
    "\n",
    "'''\n",
    "BIPOLAR\n",
    "'''\n",
    "#Sinaptic input parameters for bipolar cells\n",
    "d_is = 15 \t\t    # mean distance between synaptic input \n",
    "v_es = 1 \t\t    # stim speed [um/us]\n",
    "t_es = 100 \t\t    # stabilization time [ms]\n",
    "width = 30           # stimuli width [um]\n",
    "excGmax=0.000001     # 0.00001 Max excitatory conductance 0.0000380\n",
    "excGmin=0.0000001    # Min excitatory conductance\n",
    "\n",
    "'''\n",
    "GABA SACs\n",
    "'''\n",
    "k1 = 2\n",
    "k2 = 0.8\n",
    "th1 = -40\n",
    "th2 = 0.8   \n",
    "gabaGmin=0.000005\n",
    "gabaGmax=0.0008\n",
    "\n",
    "'''\n",
    "SYNAPSE USED\n",
    "'''\n",
    "h.ContSynapse\n",
    "\n",
    "'''\n",
    "SIMUlATION PARAMETERS\n",
    "'''\n",
    "gmax = np.logspace(-6, -3, 29)\n",
    "stimuliSpeed = np.logspace(-1, 2, 29)\n",
    "\n"
   ]
  },
  {
   "cell_type": "markdown",
   "metadata": {},
   "source": [
    "* La segunda simulación mantuvo los mismos parámetros que la simulación anterior, sin embargo, se usó una sinapsis de tipo convolución de funcón alfa con un pulso cuadrado y se barrieron los mismos valores de conductancias y velocidades.\n",
    "$dz = \\frac{A}{\\tau} - \\frac{2*a_2}{\\tau} - \\frac{a_1}{\\tau^2} $\n",
    "Los parámetros de la simulación se muestran a continuación"
   ]
  },
  {
   "cell_type": "code",
   "execution_count": null,
   "metadata": {
    "collapsed": false
   },
   "outputs": [],
   "source": [
    "# %load ../experiments/sac-red/results/20161214/PARAMETERS_contSyn.txt\n",
    "\t\t\t\t\t\t\t\tPARAMETERS\n",
    "\n",
    "'''\n",
    "DATA FILES\n",
    "'''\n",
    "\n",
    "CELL_GEOMETRY = \"../data/celldata04.txt\" \n",
    "GABA_SYN_INPUT = \"../data/syndata04.txt\"\n",
    "\n",
    "'''\n",
    "RECORDING\n",
    "'''\n",
    "Recorded_Amacrine_Cells=(13,19,83,89)\n",
    "\n",
    "'''\n",
    "NEURON SIMULATION OPTIONS\n",
    "'''\n",
    "h.tstop = 1500                  #simulation time in milliseconds\n",
    "h.CVode().active(1)\n",
    "h.cvode.atol(1e-5)\n",
    "h.v_init= -60                  #init voltage\n",
    "\n",
    "'''\n",
    "AMACRINES\n",
    "'''\n",
    "#nrow = 4 #número de SAC por fila\n",
    "#ncol = 5 #número de SAC por columna\n",
    "ndend = 4               # dendrites number\n",
    "dendseg = 3             # dendrites' segments\n",
    "diam_min = 0.5          # min dendrite diameter\n",
    "diam_max = 1.5          # max dendritic diam\n",
    "\n",
    "'''\n",
    "BIPOLAR\n",
    "'''\n",
    "#Sinaptic input parameters for bipolar cells\n",
    "d_is = 15 \t\t    # mean distance between synaptic input \n",
    "v_es = 1 \t\t    # stim speed [um/us]\n",
    "t_es = 100 \t\t    # stabilization time [ms]\n",
    "width = 30           # stimuli width [um]\n",
    "excGmax=0.000001     # 0.00001 Max excitatory conductance 0.0000380\n",
    "excGmin=0.0000001    # Min excitatory conductance\n",
    "\n",
    "'''\n",
    "GABA SACs\n",
    "'''\n",
    "k1 = 2\n",
    "k2 = 0.8\n",
    "th1 = -40\n",
    "th2 = 0.8   \n",
    "gabaGmin=0.000005\n",
    "gabaGmax=0.0008\n",
    "\n",
    "'''\n",
    "SYNAPSE USED\n",
    "'''\n",
    "h.ContSynapse\n",
    "\n",
    "'''\n",
    "SIMUlATION PARAMETERS\n",
    "'''\n",
    "gmax = np.logspace(-6, -3, 29)\n",
    "stimuliSpeed = np.logspace(-1, 2, 29)\n",
    "\n"
   ]
  },
  {
   "cell_type": "code",
   "execution_count": 247,
   "metadata": {
    "collapsed": false
   },
   "outputs": [
    {
     "data": {
      "text/html": [
       "<img style='width: 310px; margin: 0px; float: left; background: #CCC' src=img/heatmap-0-largo_sinSyn.png /><img style='width: 310px; margin: 0px; float: left; background: #CCC' src=img/heatmap-1-largo_sinSyn.png /><img style='width: 310px; margin: 0px; float: left; background: #CCC' src=img/heatmap-2-largo_sinSyn.png />"
      ],
      "text/plain": [
       "<IPython.core.display.HTML object>"
      ]
     },
     "metadata": {},
     "output_type": "display_data"
    },
    {
     "data": {
      "text/html": [
       "<img style='width: 310px; margin: 0px; float: left; background: #CCC' src=img/heatmap-0-largo_contSyn.png /><img style='width: 310px; margin: 0px; float: left; background: #CCC' src=img/heatmap-1-largo_contSyn.png /><img style='width: 310px; margin: 0px; float: left; background: #CCC' src=img/heatmap-2-largo_contSyn.png />"
      ],
      "text/plain": [
       "<IPython.core.display.HTML object>"
      ]
     },
     "metadata": {},
     "output_type": "display_data"
    }
   ],
   "source": [
    "from IPython.display import Image, HTML, display\n",
    "from glob import glob\n",
    "\n",
    "imagesSinsyn=''.join( [\"<img style='width: 310px; margin: 0px; float: left; background: #CCC' src=%s />\" % str(s) \n",
    "                     for s in sorted(glob('img/heatmap-*-largo_sinSyn.png')) ])\n",
    "\n",
    "imagesContsyn=''.join( [\"<img style='width: 310px; margin: 0px; float: left; background: #CCC' src=%s />\" % str(s) \n",
    "                     for s in sorted(glob('img/heatmap-*-largo_contSyn.png')) ])\n",
    "\n",
    "display(HTML(imagesSinsyn),embed=True)\n",
    "display(HTML(imagesContsyn),embed=True)\n",
    "\n"
   ]
  },
  {
   "cell_type": "markdown",
   "metadata": {
    "collapsed": true
   },
   "source": [
    "Las imagenes superiores corresponden a la simulación con una conductancia tipo sinusoidal, mientras que las imagenes inferiores corresponden a la simulación con conductancia tipo convolución.  Se observa que para la conductancia de convolución, la DSI se desplaza hacia la derecha y hacia abajo, es decir, se vuelve más sensible con menor conductancia y aumenta la velocidad a la que responde.\n",
    "\n",
    "Como paso siguiente, es necesario realizar lo siguiente:\n",
    "* Escoger un valor de $\\tau$ según literatura para la convolución. Para ello, la idea es hacer una breve exploración     variando 1/2 orden de magnitud para arriba y abajo.\n",
    "* Ancho de la barra: ¿Es necesario modificarlo?\n",
    "* Seleccionar SACs en el centro-centro, algo así como 45, 55, 64."
   ]
  },
  {
   "cell_type": "code",
   "execution_count": 154,
   "metadata": {
    "collapsed": false
   },
   "outputs": [
    {
     "name": "stderr",
     "output_type": "stream",
     "text": [
      "/usr/local/lib/python2.7/site-packages/ipykernel/__main__.py:21: DeprecationWarning: using a non-integer number instead of an integer will result in an error in the future\n"
     ]
    },
    {
     "data": {
      "text/plain": [
       "[<matplotlib.lines.Line2D at 0x11a04f5d0>]"
      ]
     },
     "execution_count": 154,
     "metadata": {},
     "output_type": "execute_result"
    },
    {
     "data": {
      "image/png": "[encoded data removed]",
      "text/plain": [
       "<matplotlib.figure.Figure at 0x11a04f810>"
      ]
     },
     "metadata": {},
     "output_type": "display_data"
    }
   ],
   "source": [
    "import numpy as np\n",
    "#simulation parameters\n",
    "t_start = 0\n",
    "t_end   = 1.5\n",
    "dt      = 0.0001\n",
    "time=np.arange(t_start,t_end,dt)\n",
    "nsteps=int(t_end/dt)\n",
    "\n",
    "#Alpha function\n",
    "tau=0.035\n",
    "lenght=tau*12\n",
    "xA=np.arange(0,lenght,dt)\n",
    "alpha_function=xA*np.exp(-xA/tau)/tau\n",
    "\n",
    "#Square pulse\n",
    "light_stimuli = np.zeros(nsteps)\n",
    "t_on = 200  #ms\n",
    "duration = 500 #ms\n",
    "t_off = t_on + duration\n",
    "amplitude = 1\n",
    "light_stimuli[t_start:t_end] = amplitude\n",
    "\n",
    "g_conv=np.convolve(alpha_function,light_stimuli,mode='full')\n",
    "g_conv=g_conv[:nsteps]\n",
    "\n",
    "y0=y1=0\n",
    "Y=np.zeros((len(time),2))\n",
    "i=0\n",
    "\n",
    "while i < len(time):\n",
    "    Y[i]=(y0,y1)\n",
    "    y0 += dt*y1    \n",
    "    y1 += dt*(amplitude/(dt*tau) - 2*y1/tau - y0/tau**2)\n",
    "    i+=1\n",
    "\n",
    "plt.plot(time,g_conv);\n",
    "plt.plot(time,Y[:,0])"
   ]
  },
  {
   "cell_type": "markdown",
   "metadata": {
    "collapsed": true
   },
   "source": [
    "# <center>Avances al 20 de diciembre</center>\n",
    "Un correo de P.Orio me hizo ciertas preguntas ante las cuales le respondí.  \n",
    "\n",
    "> ¿con qué valor de tau te vas a quedar en la aCsyn?\n",
    "\n",
    "Empezaré a leer papers para ver qué valores plantean. \n",
    "En realidad lo que estaba pensando era en <b>hacer un barrido en n puntos entre tau_min y tau_max</b> (valores por determinar) y ver el punto máximo en el heatmap.\n",
    "\n",
    "Esto nos fijaría un espacio de parámetros que me gustaría explorar:\n",
    "\n",
    "<b>¿Cómo se modifica la velocidad del estímulo max y la conductancia minima ante diferentes valores de tau?</b>\n",
    "Mi hipótesis es que tau está ajustado para maximizar la velocidad de estímulo ante cierto valor de conductancia.  Es decir, las cinéticas de los canales se ajustan para poder \"agarrar\" la barrita más rápida que se pueda.\n",
    "\n",
    "Ahora, las cosas que hay que explorar:\n",
    "> apagar las conexiones gabaergicas entre SAC (eso significa hacer maxG_GABAsyn=minG_GABAsyn, porque si sacas la sinapsis estás introduciendo un cambio global en la conductancia de membrana) y repetir el heatmap\n",
    "\n",
    "Deal, esto se debiese hacer rápido, asique puede ser el primer heatmap a correr (posterior al control con las células del medio)\n",
    "> Cambiar el E de las conductancias gabaergicas (e_GABAsyn): probar -80, -70, -60 (ese ya está), -50 y -40. Finalmente, hacer una con -70 distal y -50 proximal.\n",
    "\n",
    "otro heatmap barriendo E? o paso a paso?\n",
    "> Cambiar el tau de aCsyn: Un valor mayor en el tercio proximal (segmento 0 de las dendritas) y uno menor en el resto (segmentoss 1 y 2). Esto siguiendo a Kim 2014. Lo que todavía no sé es cuánto mayor y cuánto menor.\n",
    "\n",
    "Esto creo que es solucionable con la hipótesis que planteé más arriba\n",
    "> Pensé que Ding 2016 lo decía, pero ahora no lo encuentro. ¿puedes buscar?\n",
    "\n",
    "obvio."
   ]
  },
  {
   "cell_type": "markdown",
   "metadata": {},
   "source": [
    "### TIPS AND TRICKS\n",
    "\n",
    "1. Al llamar a cualquier código python, es mucho mejor eliminar la carpeta creada por *nrnivmodl* y luego recompilar, que compilar encima.  Así se evitan problemas de linkeo de librerías.\n",
    "```bash\n",
    "$rm -rf ./x86_64 && nrnivmodl ../mod\n",
    "```\n",
    "\n",
    "2. *squeue* y *sinfo* se informan sobre lo que está corriendo. (ambos dan un poco más de info con la opción -l. RTFM)\n",
    "*scancel nnnnn*   mata el job nnnnn.\n",
    "\n",
    "3. Para acceder al cluster\n",
    "```bash\n",
    "ssh -XC jpalma@200.14.71.3```\n"
   ]
  },
  {
   "cell_type": "markdown",
   "metadata": {},
   "source": [
    "### QUICK USAGE FOR MPI USERS\n",
    "\n",
    "You used to launch a process like\n",
    "```bash\n",
    "juanito@cnsclab:~$ mpiexec -H cnslab0X -np NN python mycode.py\n",
    "```\n",
    "\n",
    "Now, you have to create a script file myscript.sh containing:\n",
    "```bash\n",
    "#!/bin/bash\n",
    "mpiexec python mycode.py\n",
    "```\n",
    "and then execute:\n",
    "\n",
    "```bash\n",
    "juanito@cnsclab:~$ sbatch -n NN myscript.sh\n",
    "```\n",
    "*NN* is the number of processes you want to launch. \n",
    "Slurm will take care of interacting with mpi and assigning the rank numbers properly. You don't have to select the node or server to be used; slurm will do that. The job will be queued and executed when the resources are available.\n",
    "If you want to do several things, please submit a job for each one. DO NOT make a script file with many mpirun lines (unless they are really, really short processes)."
   ]
  },
  {
   "cell_type": "markdown",
   "metadata": {
    "collapsed": true
   },
   "source": [
    "# <center>Avances al 21 de diciembre</center>\n",
    "\n",
    "Debo hacer un listado de experimentos:\n",
    "* Control.  Usar aCsyn y contsyn para las células 45,55,64. Medir tiempos de simulación para cada uno.\n",
    "* apagar las conexiones gabaergicas entre SAC (eso significa hacer maxG_GABAsyn=minG_GABAsyn).\n",
    "* Cambiar el E de las conductancias gabaergicas (e_GABAsyn): probar -80, -70, -60 (ese ya está), -50 y -40. \n",
    "* Finalmente, hacer una con -70 distal y -50 proximal.\n",
    "* Cambiar el tau de aCsyn: Un valor mayor en el tercio proximal (segmento 0 de las dendritas) y uno menor en el resto (segmentoss 1 y 2). Esto siguiendo a Kim 2014. Lo que todavía no sé es cuánto mayor y cuánto menor.  Para este exp en particular faltan referencias\n",
    "\n",
    "#### Desarrollo de los experimentos\n",
    "1. Para el primer control, no resultó óptimo reemplazar el valor de $\\tau$ en cada línea de código.  Se demora aproximadamente 60-80 minutos para aCsyn, mientras que si no se realiza dicho reemplazo (usando contsyn), la simulación se demora 8 minutos.  Lo más práctico es hacer diferentes .mod, cada uno con un tau diferente. \n",
    "\n",
    "2. No he podido encontrar el valor de Tau deseado.  No sé si debo buscar el release de glutamato de una BP, o los receptores de glu en una SAC.  Además, no sé si debe ser receptor ionotrópico o metabotrópico.  Le envié un correo a POrio, preguntándole eso.\n",
    "> No estamos buscando precisamente el comportamiento del receptor de glutamato. En realidad estamos buscando el curso temporal de la respuesta postsináptica a las bipolares del tipo que conectan a las SAC (los dos tipos en realidad). Esta respuesta obvio que va a estar dada por la cinética de los receptores, pero también por otras cosas. Así que hay que tomar el enfoque fenomenológico (olvida los mecanismos, fijate en el resultado final) y buscar a alguien haya mirado (típicamente en una ganglionar) la respuesta postsináptica cuando se estimulan vías por una u otra bipolar. Yo estaba seguro que lo había visto, voy a buscarlo.\n",
    "\n",
    "3. \n"
   ]
  },
  {
   "cell_type": "markdown",
   "metadata": {},
   "source": [
    "## <center>Listado de experimentos</center>\n",
    "\n",
    "| Experimento              | v_init                   | celulas  | tau | status | Fecha\n",
    "| :-------------           |:-----:                   |:--------:|:---:|:------:|:-----:\n",
    "| Control aCsyn            | -60                      | 45,54,65 | tbf | x hacer|\n",
    "| Control contsyn          | -60                      | 45,54,65 | n.a.| <s>x hacer</s>|23_12_2016\n",
    "| aCsyn sin lateral inhib  | -60                      |45,54,65  | tbf | x hacer|\n",
    "|contsyn sin lateral inhib | -60                      |45,54,65  | n.a | x hacer|\n",
    "| aCsyn                    | -80                      |45,54,65  | tbf | x hacer|\n",
    "| aCsyn                    | -70                      |45,54,65  | tbf | x hacer|\n",
    "| aCsyn                    | -60                      |45,54,65  | tbf | x hacer|\n",
    "| aCsyn                    | -50                      |45,54,65  | tbf | x hacer|\n",
    "| aCsyn                    | -40                      |45,54,65  | tbf | x hacer|\n",
    "| aCsyn                    | -70 distal -50 proxima   |45,54,65  | tbf | x hacer|\n",
    "\n",
    "Además, hacer simulación de single conductance single speed para los controles\n",
    "\n",
    "\n"
   ]
  },
  {
   "cell_type": "markdown",
   "metadata": {
    "collapsed": true
   },
   "source": [
    "# <center> Avances al 7 de febrero 2017 </center>\n",
    "\n",
    "#### Debugging\n",
    "Después de LACONEU, continuaré con el trabajo que quedó pendiente.  En particular es hacer un benchmark de las diferentes opciones de simulación, con el objetivo de dejar una sinapsis ajustada para poder hacer las simulaciones posteriores en sac-red.\n",
    "\n",
    "Los correos enviados por P. Orio y las discusiones sostenidas son los siguientes\n",
    "\n",
    "**27 de Diciembre 2016**\n",
    "> Echale un vistazo a estos scripts.\n",
    "Hacen una sola SAC, con muchos menos bipolares. Y funciona perfecto! El aCsyn se demora un poco más que la otra, 10-20% no más. (ojo que hay que activar a mano el dt variable).\n",
    "No sé que onda...  se me ocurren varias posibilidades:\n",
    "* Se cae cuando son muchas bipolares, solo porque son muchas y nada más.\n",
    "* En realidad las que empiezan a meter ruido y se caen, son las conexiones SAC-SAC (gabaergicas). Esas no están en la neurona sola; pero sí estan en la red. Ahora, ¿por qué se van a caer las GABAsyn cuando las bipolares son alpha y no en el otro caso? no sé.\n",
    "* Puede que el problema esté en celldata/syndata, que haya en el set 04 alguna singularidad. ¿Puedes probar con alguno de los otros?\n",
    "* Como plan de contingencia, estoy pensando en hacer una sinapsis con subida y bajada exponencial simple...  la escribo en un rato y le hago un par de pruebas.\n",
    "\n",
    ">Ojo que le hice un par de modficaciones al aCsyn.mod, pero no hizo ninguna diferencia (no sé por qué cuando la hice le puse una variable auxiliar z, pero ahora no fue necesario. Tampoco me acuerdo por qué le puse derivimplicit en vez cnexp) \n",
    "Welcome to the debugging real world\n",
    "\n",
    ">Saludos\n",
    "\n",
    "** 28 de Diciembre 2016**\n",
    ">Hola Javier,\n",
    "\n",
    ">¿has podido ver algo del tema?\n",
    "Yo averigüé dos cosas:\n",
    "1. El tema no tiene que ver con las conexiones GABAergicas, porque persiste en su ausencia\n",
    "2. El tema tiene que ver con el número de conexiones aCsyn, porque en la SAC sola disminuí la distancia entre inputs hasta que había como 13000 objetos aCsyn, y ahí volvió a pasar. Lo que distingue el problema es que con dt variable, empieza a usar valores estúpidamente bajos, del orden de 1e-07. Pero eso nunca pasa si son pocas (~2000) aCsyn!\n",
    "\n",
    ">¿alguna idea? ¿interés en debuggear? ¿tendrá que ver con el hecho de que en el fondo es una ecuación de segundo orden?\n",
    "El plan B sigue siendo el reemplazo por una conductancia con comprtamiento exponencial simple, pero me incomoda un poco que la constante de tiempo de subida sea la misma que de bajada. ¿alguna sugerencia?\n",
    "\n",
    "** 28 de Diciembre 2016**\n",
    ">El plan B sigue siendo el reemplazo por una conductancia con comprtamiento exponencial simple, pero me incomoda un poco que la constante de tiempo de subida sea la misma que de bajada. ¿alguna sugerencia?\n",
    "Se puede usar suma de exponenciales.  \n",
    "\n",
    ">¿quieres implementarlo? la parte tricky es dónde meter en la suma de exponenciales el input variable del tiempo. Recuerda que la función alfa como está escrita en todos los libros es la respuesta impulso del sistema, porque claro, está pensado como la respuesta estereotipada a un evento discreto que es el potencial de acción. Pero cuando el evento no es discreto, sino que es una función continua en el tiempo, tenemos la otra fórmula que es algo así como la convolución en el tiempo. ¿cuál es la equivalente en una suma de exponenciales.\n",
    "Dicho de otra manera: \n",
    "* en el caso de la sinapsis exponencial simple la respuesta impulso es z(t) = Z_0 e^(-t/tau), y su equivalente en el tiempo continuo es dz/dt + z/tau = 0. Cuando tienes un input es dz/dt = Input(t) - z/tau. \n",
    "* La sinapsis alfa tiene respuesta impulso z(t) = Z_0 t e^(-t/tau), y el equivalente en tiempo continuo es d2z/dt2 = Input(t) -2 dz/dt /tau - z/tau^2.\n",
    "* ¿cuàl es el equivalente continuo de z(t) = e ^(-t/tau_d) - e^(-t/tau_r) ?\n",
    "\n",
    ">Yo sé que la conversión entre uno y otro pasa por las transformadas de Laplace, pero hasta ahí no más llego. Y si obtenemos otra vez una derivada de segundo orden, no me gusta.\n",
    "\n",
    ">Saludos\n",
    "\n",
    "**29 de Diciembre 2016**\n",
    ">Hola Javier,\n",
    "\n",
    ">Hice la prueba con una sinapsis exponencial simple (adjunta por si quieres probar) y pasa lo mismo. Tanto en la red como en la SAC sola. Es más, me fijé bien en el caso con pocas sinapsis (~500, con distancia entre inputs de 10) y en realidad igual el step baja a 1e-07 al comienzo del 'pulso' de luz. Lo que pasa es que debe ser distinto si son 500 versus 20000; en el último caso algo ocurre que se queda pegado mucho rato en un dt chico y eso impacta la simulación entera. Usando cvode.minstep(1e-05) tampoco soluciona el problema, igual se queda harto rato pegado en dt 1e-05.\n",
    "Yo creo que el problema surge porque el cambio en 'A' (el input a la sinapsis) es brusco, es un step. Eso hace que la derivada se haga muy grande por un instante de tiempo, obvio. También fijate que hay un at_time(onset) en el BREAKPOINT, esto es importante por que si no la simulación pasa de largo del momento del inicio del estímulo.\n",
    "Pero lo más importante, es que también va a pasar con la suma (o resta) de exponenciales.\n",
    "Podríamos jugar con los parámetros del método CVode, pero no me gusta mucho. Otra alternativa es 'suavizar' la curva de ascenso de A en el tiempo, que no sea un pulso cuadrado. Así como pasarlo por un filtro con una constante de tiempo de, no sé, 0.1 ms. ¿se te ocurre como hacerlo?\n",
    "\n",
    ">Saludos\n",
    "\n",
    "**29 de Diciembre 2016**\n",
    ">No, olvida el ruido. No se puede hacer nada con ruido (i.e. variable aleatoria) y dt variable.\n",
    "El contsyn no tiene y nunca tendrá ese problema porque no tiene ecuación diferencial!. Es una onda explícita, un medio seno.\n",
    "Un parche que se puede usar sería implementar la función alfa convolucionada de manera explícita. algo así como:\n",
    "\n",
    ">```python\n",
    "if t<onset:\n",
    "    g = gmin\n",
    "if t > onset && t<onset+dur:\n",
    "    g = gmin + (gmax-gmin) * (1 - exp (-(t-onset)/tau1))\n",
    "if t > (onset+dur):\n",
    "    g = gmin + g(t=onset+dur) * exp (-(t - onset-dur)/tau2)\n",
    "```\n",
    "\n",
    ">Lo tricky es determinar el g(t=onset+dur), ya que si el pulso es muy corto o muy rápido no va a ser igual que el gmax. Pero algo se pude inventar.\n",
    "\n",
    ">Saludos\n",
    "\n",
    ">ps.: Ah!, se me olvidó que la desventaja de ese approach es que no se podrán hacer estímulos más complejos como gratings. Esa era la motivación para inventar el aCsyn.\n",
    "Otra cosa, el at_time(onset) tampoco es la causa; lo saqué y todo sigue igual.\n",
    "\n",
    "**29 de Diciembre 2016**\n",
    "\n",
    ">Se me ocurrió la mejor solución, que es una lata pero en Python se hace facilito:\n",
    "* generar para cada bipolar un vector con 0s y 1s, donde le ponemos 1 según el estímulo (considerando ancho, velocidad y posición). Esto no hay que hacerlo para cada sinapsis, sino sólo para cada bipolar (son menos). El vector tiene largo T*dt (donde el dt es arbitrario y basta que sea 1/10 de tau; no tendrá nada que ver con el dt de la simulación). Ahí tendremos la libertad de hacer gratings, cosas que suben de a poco, etc.\n",
    "* convolucionar este vector con la función alpha con el tau deseado. Este tau puede ser igual para todas o diferenciado entre bipolares lentas y rápidas siguiendo a Kim o Ding.\n",
    "* El resultado de la convolución se le hace un vector.play() en la conductancia de las sinapsis. \n",
    "\n",
    ">Mi único temor es que teniendo 23000 vectores de largo T*dt, y haciendo play de ellos, podemos copar la memoria... no sé. No lo creo, pero hay que ponerle atención no más. Hay que calcular que en el cluster hay solo 3 ó 4 Gb de RAM por cada core. Si no es suficiente, se puede limitar el número de simulaciones por nodo.\n",
    "\n",
    ">¿Sabrías hacerlo? (yo sí)\n",
    "\n",
    ">Saludos\n",
    "\n",
    "**3 de Enero 2017**\n",
    ">Hola Javier!\n",
    "\n",
    ">¡¡Feliz Año!!\n",
    "\n",
    ">¿tienes tiempo esta tarde para un hangouts? \n",
    "\n",
    ">Probé lo del vector.play() a la rápida, y se hizo maaaaas lento!! me imagino que, por un lado, el sistema se ve obligado a usar como máximo un dt igual al del play (usé igual algo grande, como 0.1) y, por otro lado, la actualización de 20000 objetos debe tomar su tiempo. Pero igual se me ocurren varias cosas que podrían mejorarse.\n",
    "Lo que quiero discutir contigo es que hay que hacer un buen benchmark de todas las soluciones que hemos (he) explorado. Hasta el momento las pruebas rápidas las he hecho en Neuron, no en Python. Y al final lo que importa es Python. Así que lo ideal sería hacer algunas pruebas esta semana para no perder más tiempo, y luego ponerse a simular.\n",
    "\n",
    ">Saludos\n",
    "\n",
    ">Pato\n",
    "\n",
    "\n",
    "## Teorías\n",
    "\n",
    "1. **El tema no tiene que ver con las conexiones GABAergicas, porque persiste en su ausencia**\n",
    "2. **El tema tiene que ver con el número de conexiones aCsyn**, porque en la SAC sola disminuí la distancia entre inputs hasta que había como 13000 objetos aCsyn, y ahí volvió a pasar. *Lo que distingue el problema es que con dt variable, empieza a usar valores estúpidamente bajos, del orden de 1e-07*. Pero eso nunca pasa si son pocas (~2000) aCsyn!\n",
    "3. Lo que pasa es que debe ser distinto si son 500 versus 20000; **en el último caso algo ocurre que se queda pegado mucho rato en un dt chico y eso impacta la simulación entera.** Usando cvode.minstep(1e-05) tampoco soluciona el problema, igual se queda harto rato pegado en dt 1e-05.\n",
    "**Yo creo que el problema surge porque el cambio en 'A' (el input a la sinapsis) es brusco, es un step. Eso hace que la derivada se haga muy grande por un instante de tiempo, obvio. También fijate que hay un at_time(onset) en el BREAKPOINT, esto es importante por que si no la simulación pasa de largo del momento del inicio del estímulo.**\n",
    "Pero lo más importante, es que también va a pasar con la suma (o resta) de exponenciales.\n",
    "Podríamos jugar con los parámetros del método CVode, pero no me gusta mucho. Otra alternativa es 'suavizar' la curva de ascenso de A en el tiempo, que no sea un pulso cuadrado.\n",
    "4. *Un parche que se puede usar sería implementar la función alfa convolucionada de manera explícita.*\n",
    "5. El at_time(onset) tampoco es la causa; lo saqué y todo sigue igual.\n",
    "\n",
    "## Ideas\n",
    "1. generar para cada bipolar un vector con 0s y 1s, donde le ponemos 1 según el estímulo (considerando ancho, velocidad y posición). Esto no hay que hacerlo para cada sinapsis, sino sólo para cada bipolar (son menos). El vector tiene largo T·dt (donde el dt es arbitrario y basta que sea 1/10 de tau; no tendrá nada que ver con el dt de la simulación). Ahí tendremos la libertad de hacer gratings, cosas que suben de a poco, etc.\n",
    "2. convolucionar este vector con la función alpha con el tau deseado. Este tau puede ser igual para todas o diferenciado entre bipolares lentas y rápidas siguiendo a Kim o Ding.\n",
    "3. El resultado de la convolución se le hace un vector.play() en la conductancia de las sinapsis. \n",
    "4. Probé lo del vector.play() a la rápida, y se hizo maaaaas lento!! me imagino que, por un lado, el sistema se ve obligado a usar como máximo un dt igual al del play (usé igual algo grande, como 0.1) y, por otro lado, la actualización de 20000 objetos debe tomar su tiempo."
   ]
  },
  {
   "cell_type": "markdown",
   "metadata": {
    "collapsed": true
   },
   "source": [
    "# <center> Avances al 11 de Febrero 2017 </center>\n",
    "\n",
    "Por alguna razón, me seguía generando ruido la definición en la derivada de la alpha synapse. Por tal motivo preferí realizar el cálculo de la derivada, de forma analítica, utilizando sympy.  \n",
    "Si la ecuación converge y está bien definida, me olvidaré de este problema y seguiré avanzando.\n",
    "\n",
    "#### aCsyn equation\n",
    "\n",
    "La ecuación diferencial que debe resolver aCsyn es la siguiente\n",
    "\n",
    "$$\n",
    "\\frac{d^2y}{dt^2} + \\frac{2}{\\tau}\\frac{dy}{dt} + \\frac{y}{\\tau^2}=\\frac{A}{\\tau}\n",
    "$$\n",
    "\n",
    "Para este caso, las condiciones iniciales son $y(0) = 0$, $y'(0)=0$"
   ]
  },
  {
   "cell_type": "code",
   "execution_count": 1,
   "metadata": {
    "collapsed": false
   },
   "outputs": [],
   "source": [
    "from IPython.display import display\n",
    "import sympy as sy\n",
    "\n",
    "sy.init_printing() \n",
    "k, A, t = sy.symbols('k A t') #k will be tau\n",
    "a0, b0 = sy.symbols('a0, b0', real=True)\n",
    "y = sy.Function('y')"
   ]
  },
  {
   "cell_type": "code",
   "execution_count": 2,
   "metadata": {
    "collapsed": false
   },
   "outputs": [
    {
     "name": "stdout",
     "output_type": "stream",
     "text": [
      "aCsyn Differential equation:\n",
      "\n"
     ]
    },
    {
     "data": {
      "image/png": "[encoded data removed]",
      "text/latex": [
       "$$\\frac{d^{2}}{d t^{2}}  y{\\left (t \\right )} + \\frac{2}{k} \\frac{d}{d t} y{\\left (t \\right )} + \\frac{1}{k^{2}} y{\\left (t \\right )} = \\frac{A}{k}$$"
      ],
      "text/plain": [
       "              d                  \n",
       "  2         2⋅──(y(t))           \n",
       " d            dt         y(t)   A\n",
       "───(y(t)) + ────────── + ──── = ─\n",
       "  2             k          2    k\n",
       "dt                        k      "
      ]
     },
     "metadata": {},
     "output_type": "display_data"
    },
    {
     "name": "stdout",
     "output_type": "stream",
     "text": [
      "\n",
      "Generic solution:\n",
      "\n"
     ]
    },
    {
     "data": {
      "image/png": "[encoded data removed]",
      "text/latex": [
       "$$y{\\left (t \\right )} = A k + \\left(C_{1} + C_{2} t\\right) e^{- \\frac{t}{k}}$$"
      ],
      "text/plain": [
       "                          -t \n",
       "                          ───\n",
       "                           k \n",
       "y(t) = A⋅k + (C₁ + C₂⋅t)⋅ℯ   "
      ]
     },
     "metadata": {},
     "output_type": "display_data"
    }
   ],
   "source": [
    "#Equation solving \n",
    "Eq1 = sy.Eq(sy.Derivative(y(t),t,t) + 2*sy.Derivative(y(t),t)/k + y(t)/(k**2),(A/k))\n",
    "print(\"aCsyn Differential equation:\\n\")\n",
    "display(Eq1)\n",
    "\n",
    "print(\"\\nGeneric solution:\\n\")\n",
    "y_sl0 = sy.dsolve(Eq1, y(t)).rhs  # take only right hand side\n",
    "display(sy.Eq(y(t), y_sl0))"
   ]
  },
  {
   "cell_type": "code",
   "execution_count": 3,
   "metadata": {
    "collapsed": false
   },
   "outputs": [
    {
     "name": "stdout",
     "output_type": "stream",
     "text": [
      "\n",
      "Particular solution with fixed params:\n",
      "\n"
     ]
    },
    {
     "data": {
      "image/png": "[encoded data removed]",
      "text/latex": [
       "$$y{\\left (t \\right )} = \\frac{1}{\\sqrt{e^{t}}} \\left(C_{1} + C_{2} t\\right) + 2.0$$"
      ],
      "text/plain": [
       "       C₁ + C₂⋅t      \n",
       "y(t) = ───────── + 2.0\n",
       "           ____       \n",
       "          ╱  t        \n",
       "        ╲╱  ℯ         "
      ]
     },
     "metadata": {},
     "output_type": "display_data"
    },
    {
     "name": "stdout",
     "output_type": "stream",
     "text": [
      "\n",
      "Solution with initial conditions:\n",
      "\n"
     ]
    },
    {
     "data": {
      "image/png": "[encoded data removed]",
      "text/latex": [
       "$$y{\\left (t \\right )} = \\frac{1}{\\sqrt{e^{t}}} \\left(- 1.0 t + 2.0 \\sqrt{e^{t}} - 2.0\\right)$$"
      ],
      "text/plain": [
       "                       ____      \n",
       "                      ╱  t       \n",
       "       -1.0⋅t + 2.0⋅╲╱  ℯ   - 2.0\n",
       "y(t) = ──────────────────────────\n",
       "                   ____          \n",
       "                  ╱  t           \n",
       "                ╲╱  ℯ            "
      ]
     },
     "metadata": {},
     "output_type": "display_data"
    }
   ],
   "source": [
    "#Parameters setting for the initial conditions\n",
    "a0=0.\n",
    "b0=0.\n",
    "k=2.\n",
    "A=1.\n",
    "\n",
    "#Equation with fixed parameters\n",
    "Eq2 = sy.Eq(sy.Derivative(y(t),t,t) + 2*sy.Derivative(y(t),t)/k + y(t)/(k**2),(A/k))\n",
    "print(\"\\nParticular solution with fixed params:\\n\")\n",
    "y_s20 = sy.dsolve(Eq2, y(t)).rhs  # take only right hand side\n",
    "display(sy.Eq(y(t), y_s20))\n",
    "\n",
    "# Initial conditions:\n",
    "cnd0 = sy.Eq(y_s20.subs(t, 0), a0)  # y(0) = a0\n",
    "cnd1 = sy.Eq(y_s20.diff(t).subs(t, 0), b0)  # y'(0) = b0\n",
    "\n",
    "#  Solve for C1, C2:\n",
    "C1, C2 = sy.symbols(\"C1, C2\")  # generic constants\n",
    "C1C2_sl = sy.solve([cnd0, cnd1], (C1, C2))\n",
    "\n",
    "# Substitute back into solution:\n",
    "y_sl1 = sy.simplify(y_s20.subs(C1C2_sl))\n",
    "print(\"\\nSolution with initial conditions:\\n\")\n",
    "display(sy.simplify(sy.Eq(y(t), y_sl1)))"
   ]
  },
  {
   "cell_type": "code",
   "execution_count": 4,
   "metadata": {
    "collapsed": false
   },
   "outputs": [
    {
     "name": "stderr",
     "output_type": "stream",
     "text": [
      "/usr/local/lib/python2.7/site-packages/matplotlib/font_manager.py:273: UserWarning: Matplotlib is building the font cache using fc-list. This may take a moment.\n",
      "  warnings.warn('Matplotlib is building the font cache using fc-list. This may take a moment.')\n"
     ]
    }
   ],
   "source": [
    "from matplotlib import pyplot as plt\n",
    "%matplotlib inline\n",
    "import seaborn as sns\n",
    "import numpy as np\n",
    "\n",
    "# make a numpy-ready function from the sympy results\n",
    "func = sy.lambdify(t, sy.simplify(sy.Eq(y(t), y_sl1)).rhs,\"numpy\")"
   ]
  },
  {
   "cell_type": "code",
   "execution_count": 5,
   "metadata": {
    "collapsed": false
   },
   "outputs": [],
   "source": [
    "xvals = np.arange(0, 50, 0.01)\n",
    "yvals = []\n",
    "for i in range(len(xvals)):\n",
    "    value = xvals[i]\n",
    "    yvals.append(func(value))"
   ]
  },
  {
   "cell_type": "code",
   "execution_count": 7,
   "metadata": {
    "collapsed": false
   },
   "outputs": [
    {
     "data": {
      "image/png": "[encoded data removed]",
      "text/plain": [
       "<matplotlib.figure.Figure at 0x10f16c610>"
      ]
     },
     "metadata": {},
     "output_type": "display_data"
    }
   ],
   "source": [
    "# make figure\n",
    "plt.figure()  \n",
    "plt.plot(xvals, yvals)\n",
    "plt.xlabel('tiempo')\n",
    "plt.ylabel('y(t)')\n",
    "plt.show()"
   ]
  },
  {
   "cell_type": "code",
   "execution_count": 21,
   "metadata": {
    "collapsed": false
   },
   "outputs": [
    {
     "data": {
      "image/png": "[encoded data removed]",
      "text/plain": [
       "<matplotlib.figure.Figure at 0x10448c110>"
      ]
     },
     "metadata": {},
     "output_type": "display_data"
    }
   ],
   "source": [
    "#Asumiendo vector con onset = 10ms\n",
    "yvals2 = [0]*5000\n",
    "yvals2[1000:3000] = yvals[0:2000]\n",
    "\n",
    "\n",
    "# make figure\n",
    "plt.figure()  \n",
    "plt.subplot(211)\n",
    "plt.plot(xvals, yvals)\n",
    "plt.ylabel('y(t)')\n",
    "plt.subplot(212)\n",
    "plt.plot(xvals, yvals2)\n",
    "plt.xlabel('tiempo')\n",
    "plt.ylabel('synapse')\n",
    "plt.show()"
   ]
  },
  {
   "cell_type": "markdown",
   "metadata": {},
   "source": [
    "# <center> Avances al 12 de Febrero 2017 </center>\n",
    "\n",
    "## Recopilación de soluciones\n",
    "Revisando los foros de [neuron](https://www.neuron.yale.edu/phpBB/viewtopic.php?f=16&t=3007), encontré varios detalles interesantes:\n",
    "1. *\"First, at_time is deprecated, which means that it is strongly recommended that it not be used in new code development.\" (Carnevale, 2014)*\n",
    "2. *\"First, the assignment statements in a BREAKPOINT block are usually called twice per time step.\" (Carnevale & Hines, 2000).*  El tema con esto es que, si se llama al solve dentro del breakpoint, se deberá resolver la ecuación dos veces, lo cual lleva a un aumento en el tiempo de procesamiento.\n",
    "3. *\"Will they be electrotonically close to each other? or will they be at significantly different locations in the same cell (**or attached to different cells, which would be an equivalent computational burden**)?\" (Carnevale, 2014)*\n",
    "4. *\"If f(v,y) is not linear in y, then the implicit integration method derivimplicit should be used. This provides first-order accuracy and is usable with general ODEs regardless of stiffness or nonlinearity\".* En particular, al resolver la ecuación diferencial de aCsyn, es lineal, por tanto conviene más usar **cnexp**.\n",
    "5. *With variable time step methods, no variable is assumed to be constant. These methods not only change the time step, but adaptively choose a numerical integration formula with local error that ranges from first-order up to $O(\\Delta t^6)$. (Carnevale & Hines, 2000)*.\n",
    "\n",
    "Con todo lo anterior, el problema al parecer, es que la ecuación es llamada muchísimas veces (2 veces por cada dt, por lo que dura la simulación, por la cantidad de sinapsis existentes.  Si además el dt es variable, se debe elegir la fórmula de integración, generando error además por cada iteración y empleando un método de recálculo, lo que hace que la simulación sea lenta.\n",
    "**Se me ocurre que la mejor solución por ahora es: usar aCsyn con la ecuación explícita. En cada breakpoint llamar al procedimiento que asignará el valor de $a_1$ según sea el valor de tiempo ($t \\in [t_{onset},t_{onset + dur}]$).\n",
    "De esta manera, nos saltamos el integrador y la simulación debería ser más rápida.** (tal y como mencionó P.Orio en su solución \"parche\")\n",
    "\n",
    "\n",
    "## Issues\n",
    "Por alguna rara situación, no he podido correr los archivos que me pasó P.Orio.  \n",
    "En particular, al llamar a \"net5r_nseg3-read.hoc\" obtengo el siguiente error\n",
    "```bash\n",
    "NEURON -- VERSION 7.4 (1380:90539e842093) 90539e842093\n",
    "Duke, Yale, and the BlueBrain Project -- Copyright 1984-2015\n",
    "See http://www.neuron.yale.edu/neuron/credits\n",
    "\n",
    "loading membrane mechanisms from /Users/Javier/Proyectos/CINV/experiments/benchmark/x86_64/.libs/libnrnmech.so\n",
    "Additional mechanisms from files\n",
    " aCsyn.mod contsyn2.mod eCsyn.mod\n",
    "\t1 \n",
    "\t1 \n",
    "\t1 \n",
    "\t0 \n",
    "\t0 \n",
    "/Applications/NEURON-7.4/nrn/x86_64/bin/nrniv: init not enough arguments\n",
    " in net5r_nseg3-read.hoc near line 40\n",
    " }\n",
    "  ^\n",
    "        SAC[0].init(4, 120, 29.0816, -0.559453, 3)\n",
    "oc>\n",
    "```\n",
    "\n",
    "Algo similar pasa al llamar a \"net5r_nseg3-aCsyn-read.hoc\"\n",
    "```bash\n",
    "NEURON -- VERSION 7.4 (1380:90539e842093) 90539e842093\n",
    "Duke, Yale, and the BlueBrain Project -- Copyright 1984-2015\n",
    "See http://www.neuron.yale.edu/neuron/credits\n",
    "\n",
    "loading membrane mechanisms from /Users/Javier/Proyectos/CINV/experiments/benchmark/x86_64/.libs/libnrnmech.so\n",
    "Additional mechanisms from files\n",
    " aCsyn.mod contsyn2.mod eCsyn.mod\n",
    "\t1 \n",
    "\t1 \n",
    "\t1 \n",
    "\t0 \n",
    "\t0 \n",
    "/Applications/NEURON-7.4/nrn/x86_64/bin/nrniv: init not enough arguments\n",
    " in net5r_nseg3-aCsyn-read.hoc near line 40\n",
    " }\n",
    "  ^\n",
    "        SAC[0].init(4, 120, 30, 0, 3)\n",
    "oc>\n",
    "```"
   ]
  },
  {
   "cell_type": "markdown",
   "metadata": {
    "collapsed": true
   },
   "source": [
    "# <center> Avances al 13 de Febrero de 2017 </center>\n",
    "\n",
    "Para contrastar la hipótesis de que el cálculo de la derivada hace más lento al código, se testearon dos opciones: \n",
    "* La derivada se calcula directamente en el .mod. \n",
    "\n",
    "```C\n",
    "INITIAL {\n",
    "    a2=0\n",
    "    a1=0\n",
    "}\n",
    "\n",
    "STATE {\n",
    "    a1\n",
    "    a2  (1/ms)\n",
    "}\n",
    "\n",
    "BREAKPOINT {\n",
    "\tat_time(onset)\n",
    "\tat_time(onset+dur)\n",
    "    Astate()\n",
    "    SOLVE states METHOD cnexp\n",
    "    g = minG + (maxG - minG)* (a1 *1(ms)/tau)\n",
    "    i = g * ( v - e )\n",
    "}\n",
    "\t\n",
    "DERIVATIVE states {\n",
    "    LOCAL dz\n",
    "    dz = A/tau - 2*a2/tau - a1/(tau^2)\n",
    "    a2' = dz\n",
    "    a1' = a2\n",
    "}\n",
    "\n",
    "PROCEDURE Astate() {\n",
    "\tif (t < onset + dur && t >= onset) {\n",
    "\t\tA = amp\n",
    "\t}else{\n",
    "\t\tA = 0\n",
    "\t}    \n",
    "}\n",
    "```\n",
    "\n",
    "\n",
    "* La ecuación explícita de la alfa function es calculada y ejecutada en el .mod\n",
    "\n",
    "\n",
    "```C\n",
    "INITIAL {\n",
    "    a1=0\n",
    "}\n",
    "\n",
    "STATE {\n",
    "    a1\n",
    "}\n",
    "\n",
    "BREAKPOINT {\n",
    "\tat_time(onset)\n",
    "\tat_time(onset+dur)\n",
    "    Astate()\n",
    "    g = minG + (maxG - minG)* (a1 *1(ms)/tau)\n",
    "    i = g * ( v - e )\n",
    "}\n",
    "\t\n",
    "PROCEDURE Astate() {\n",
    "\tif (t < onset + dur && t >= onset) {\n",
    "\t\tA = amp\n",
    "        a1 = -A * (-tau * exp(t/tau) + tau + t)* exp(-t/tau)\n",
    "\t}else{\n",
    "\t\tA = 0\n",
    "        a1 = 0\n",
    "\t}    \n",
    "}\n",
    "```\n",
    "\n",
    "Estas opciones se testearon en sólo una simulación de estímulo y no para el set completo de modificaciones de conductancia.\n"
   ]
  },
  {
   "cell_type": "markdown",
   "metadata": {},
   "source": [
    "## Outputs\n",
    "\n",
    "Los resultados de la simulación son los siguientes\n",
    "* Cálculo de la derivada\n",
    "```bash\n",
    "runfile('/Users/Javier/Proyectos/CINV/experiments/sac-red/code/aCsyn/net5module_aCsyn.py', wdir='/Users/Javier/Proyectos/CINV/experiments/sac-red/code/aCsyn')\n",
    "Reloaded modules: neuron.hoc, neuron\n",
    "100  Starburst Amacrine Cells created\n",
    "3192  Bipolar Cells created\n",
    "23078 Glutamatergic synaptic inputs created\n",
    "8826 Gabaergic synaptic inputs\n",
    "Gabaergic synaptic inputs created\n",
    "working cells are 44, 54 and 65\n",
    "Setting initial glutamatergic synapse\n",
    "Now will set gabaergic synapse parameters\n",
    "Parameters OK, Equilibrium simulation started\n",
    "RUN, Neuron...RUN!\n",
    "Saving equilibrium outputs\n",
    "Equilibrium simulation finished\n",
    "init sc1 and sc2 in core -1\n",
    "Experiment started.  Creating excitatory conductances\n",
    "creating stimuli\n",
    "Creating recording vector for amacrines...\n",
    "...and for synapses\n",
    "Simulation: Started\n",
    "Simulation: Ended (Yay!)\n",
    "Elapsed Time:  1698.29393601 seconds\n",
    "Now ploting. You could check the figures in ./simulation/2017-02-13\n",
    "Total Execution time: 3248.34497905 secondsca\n",
    "```\n",
    "\n",
    "* Cálculo explícito de la sinapsis\n",
    "\n",
    "```bash\n",
    "runfile('/Users/Javier/Proyectos/CINV/experiments/sac-red/code/aCsyn/net5module_aCsyn.py', wdir='/Users/Javier/Proyectos/CINV/experiments/sac-red/code/aCsyn')\n",
    "Reloaded modules: neuron.hoc, zmq.utils.garbage, neuron\n",
    "100  Starburst Amacrine Cells created\n",
    "3192  Bipolar Cells created\n",
    "23078 Glutamatergic synaptic inputs created\n",
    "8826 Gabaergic synaptic inputs\n",
    "Gabaergic synaptic inputs created\n",
    "working cells are 44, 54 and 65\n",
    "Setting initial glutamatergic synapse\n",
    "Now will set gabaergic synapse parameters\n",
    "Parameters OK, Equilibrium simulation started\n",
    "RUN, Neuron...RUN!\n",
    "Saving equilibrium outputs\n",
    "Equilibrium simulation finished\n",
    "init sc1 and sc2 in core -1\n",
    "Experiment started.  Creating excitatory conductances\n",
    "creating stimuli\n",
    "Creating recording vector for amacrines...\n",
    "...and for synapses\n",
    "Simulation: Started\n",
    "Simulation: Ended (Yay!)\n",
    "Elapsed Time:  1613.22174287 seconds\n",
    "Now ploting. You could check the figures in ./simulation/2017-02-12\n",
    "Total Execution time: 3055.42630887 seconds\n",
    "```\n"
   ]
  },
  {
   "cell_type": "markdown",
   "metadata": {},
   "source": [
    "## Comparación de las simulaciones\n",
    "Para analizar si las simulaciones eran equivalentes entre ellas, se muestra el gráfico obtenido de la simulación de las células 44, 54, 65"
   ]
  },
  {
   "cell_type": "code",
   "execution_count": 246,
   "metadata": {
    "collapsed": false
   },
   "outputs": [
    {
     "data": {
      "text/html": [
       "<img style='width: 700px; margin: 0px; float: left; background: #CCC' src='img/derivate_benchmark.png'/>"
      ],
      "text/plain": [
       "<IPython.core.display.HTML object>"
      ]
     },
     "metadata": {},
     "output_type": "display_data"
    },
    {
     "data": {
      "text/html": [
       "<img style='width: 700px; margin: 0px; float: left; background: #CCC' src='img/analitic_benchmark.png'/>"
      ],
      "text/plain": [
       "<IPython.core.display.HTML object>"
      ]
     },
     "metadata": {},
     "output_type": "display_data"
    }
   ],
   "source": [
    "from IPython.display import Image, HTML, display\n",
    "from glob import glob\n",
    "\n",
    "derivate=''.join([\"<img style='width: 700px; margin: 0px; float: \"\n",
    "                  + \"left; background: #CCC' src='img/derivate_benchmark.png'/>\"])\n",
    "\n",
    "analitic=''.join([\"<img style='width: 700px; margin: 0px; float: \"\n",
    "                  + \"left; background: #CCC' src='img/analitic_benchmark.png'/>\"])\n",
    "\n",
    "display(HTML(derivate),embed=True)\n",
    "display(HTML(analitic),embed=True)"
   ]
  },
  {
   "cell_type": "markdown",
   "metadata": {},
   "source": [
    "En la figura superior se observa el resultado de la simulación, empleando el método de cálculo de derivada en el .mod.\n",
    "La figura inferior muestra la simulación, pero ahora utilizando la ecuación explícita en el archivo .mod\n",
    "\n",
    "## Comparación de los tiempos de ejecución"
   ]
  },
  {
   "cell_type": "code",
   "execution_count": 232,
   "metadata": {
    "collapsed": false
   },
   "outputs": [
    {
     "data": {
      "image/png": "[encoded data removed]",
      "text/plain": [
       "<matplotlib.figure.Figure at 0x10803e3d0>"
      ]
     },
     "metadata": {},
     "output_type": "display_data"
    },
    {
     "name": "stdout",
     "output_type": "stream",
     "text": [
      "diferencia en tiempo de ejecucion: 192.91867018 [s]\n"
     ]
    }
   ],
   "source": [
    "import numpy as np\n",
    "import matplotlib.pyplot as plt\n",
    "%matplotlib inline\n",
    "run_time = [3248.34497905, 3055.42630887]\n",
    "objects = ('Derivative', 'Analytic')\n",
    "y_pos = np.arange(len(objects))\n",
    "\n",
    "plt.bar(y_pos, run_time, align='center', alpha=0.5)\n",
    "plt.xticks(y_pos, objects)\n",
    "plt.ylabel('Tiempo(s)')\n",
    "plt.title('Metodo utilizado')\n",
    "plt.show()\n",
    "print \"diferencia en tiempo de ejecucion: %s [s]\" %(run_time[0] - run_time[1])"
   ]
  },
  {
   "cell_type": "markdown",
   "metadata": {},
   "source": [
    "Se observa entonces que la ejecución con cálculo explícito de la función alfa es ligeramente más rápida.  Esto podría tener un impacto en la simulación general, sin embargo no es mucha la diferencia existente (192.919[s]).\n",
    "Ambas simulaciones fueron corridas en un MacBook Pro (Proc:2,4 GHz Intel Core 2 Duo; RAM: 4 GB 1067 MHz DDR3; Gráficos: NVIDIA GeForce 320M 256 MB).\n",
    "Primero se corrió la simulación con derivada, luego la simulación analítica y nuevamente la simulación con derivada.  Estas dos últimas simulaciones fueron las utilizadas para el análisis."
   ]
  },
  {
   "cell_type": "markdown",
   "metadata": {},
   "source": [
    "## Simulación de una grid de parámetros\n",
    "\n",
    "Se simuló la rejilla de parámetros de datos para la red neuronal, es decir\n",
    "\n",
    "```python\n",
    "gmax = np.logspace(-6, -3, 2)  #np.logspace(-6, -3, 29)\n",
    "stimuliSpeed = np.logspace(-1, 2, 2) #np.logspace(-1, 2, 29)\n",
    "```\n",
    "Esta simulación fue realizada en el Cluster de cómputo del CINV (specs??)\n",
    "\n",
    "Los resultados de salida son los siguientes:\n",
    "\n",
    "* Derivada en .mod\n",
    "```bash\n",
    "Time elapsed:  2387.950243 s\n",
    "Total Execution time: 2387.99236989 seconds\n",
    "```\n",
    "* Ecuación analítica en .mod\n",
    "```bash\n",
    "Time elapsed:  1812.56717706 s\n",
    "Total Execution time: 1812.59710979 seconds\n",
    "```\n",
    "\n",
    "Además, se adjuntan los logs de la salida de slurm.\n"
   ]
  },
  {
   "cell_type": "code",
   "execution_count": 118,
   "metadata": {
    "collapsed": false
   },
   "outputs": [],
   "source": [
    "derivate = [[1.00000000e-01,1.00000000e-06,3.00000000e+01,1.00000000e-01,\n",
    "             1.31882994e-04,1.37337343e-04,1.49218077e-04,-3.62967379e-03,\n",
    "             -8.15438570e-03,5.17733820e-03,1.21229977e-05,1.33795788e-05,\n",
    "             1.33128768e-05,-2.82095082e-03,-8.05479524e-03,4.66571381e-03,\n",
    "             8.46672605e-06,9.32980809e-06,9.24535879e-06,-3.51608497e-03,\n",
    "             -8.71161987e-03,4.79982637e-03],\n",
    "            [1.00000000e+02,1.00000000e-06,3.00000000e+01,1.00000000e+02,\n",
    "             4.75073472e+00,4.81217563e+00,4.88305619e+00,-1.53612750e-03,\n",
    "             -1.03873759e-02,2.30004024e-03,6.11138093e-03,6.41778642e-03,\n",
    "             6.60121273e-03,-3.50382988e-03,-3.22410964e-02,7.91303059e-03,\n",
    "             1.85141638e-03,1.94764580e-03,1.99471971e-03,-3.54670509e-03,\n",
    "             -3.23747050e-02,7.80481061e-03],\n",
    "            [1.00000000e-01,1.00000000e-03,3.00000000e+01,1.00000000e-01,\n",
    "             1.87339787e-03,3.32629290e-03,1.30705505e-03,-3.25050144e-01,\n",
    "             -2.04115949e-01,-3.46697048e-01,1.46595316e-05,1.46862691e-05,\n",
    "             1.57213961e-05,-6.57197791e-02,-3.40034250e-02,-4.92957087e-02,\n",
    "             7.99821775e-06,5.27537035e-07,1.03877669e-05,1.37978940e-01,\n",
    "             -1.10447166e+00,-3.66035756e-02],\n",
    "            [1.00000000e+02,1.00000000e-03,3.00000000e+01,1.00000000e+02,\n",
    "             5.71373407e+01,5.71518708e+01,5.71959191e+01,1.94119384e-03,\n",
    "             -1.48922454e-03,2.50418230e-03,8.71535374e-01,8.71538167e-01,\n",
    "             8.71552440e-01,7.63402319e-06,-5.08507532e-05,2.55081539e-05,\n",
    "             3.72319346e-01,3.72365063e-01,3.72433353e-01,3.08856901e-05,\n",
    "             -4.53670337e-04,1.84614089e-04]]\n",
    "\n",
    "analitic = [[1.00000000e-01,1.00000000e-06,3.00000000e+01,1.00000000e-01\n",
    "             , 1.31469286e-04,1.36863965e-04,1.48757049e-04,-3.66392097e-03\n",
    "             ,-8.17209626e-03,5.17014680e-03,1.21427843e-05,1.33967448e-05\n",
    "             , 1.33359009e-05,-2.81622053e-03,-7.95164571e-03,4.66464030e-03\n",
    "             , 8.48476310e-06,9.34594272e-06,9.26528607e-06,-3.51248091e-03\n",
    "             ,-8.59612718e-03,4.80306112e-03],\n",
    "            [1.00000000e+02,1.00000000e-06,3.00000000e+01,1.00000000e+02\n",
    "             , 4.75325768e+00,4.81435291e+00,4.88561307e+00,-1.53739756e-03\n",
    "             ,-1.03865475e-02,2.30009499e-03,6.15644241e-03,6.46268009e-03\n",
    "             , 6.64832873e-03,-3.03990524e-03,-3.19241827e-02,8.35175055e-03\n",
    "             , 1.86228549e-03,1.95829866e-03,2.00596091e-03,-3.05727593e-03\n",
    "             ,-3.20422036e-02,8.26930460e-03],\n",
    "            [1.00000000e-01,1.00000000e-03,3.00000000e+01,1.00000000e-01\n",
    "             , 1.87126426e-03,3.32158255e-03,1.30610599e-03,-3.24977100e-01\n",
    "             ,-2.03845425e-01,-3.46801846e-01,1.46740122e-05,1.46823519e-05\n",
    "             , 1.57524779e-05,-6.56080041e-02,-3.34248008e-02,-4.90435466e-02\n",
    "             , 7.98095753e-06,4.53561692e-07,1.04139163e-05,1.42694245e-01\n",
    "             ,-1.08773668e+00,-3.67167976e-02],\n",
    "            [1.00000000e+02,1.00000000e-03,3.00000000e+01,1.00000000e+02\n",
    "             , 5.87512827e+01,5.87224353e+01,5.87461027e+01,3.00497257e-03\n",
    "             , 1.67611603e-03,3.14361832e-03,8.70803329e-01,8.70788094e-01\n",
    "             , 8.70775840e-01,2.57456624e-05,3.00068478e-05,2.26206753e-05\n",
    "             , 3.70019539e-01,3.70008820e-01,3.69992959e-01,1.48214487e-04\n",
    "             , 1.31808729e-04,1.46837352e-04]]"
   ]
  },
  {
   "cell_type": "code",
   "execution_count": 144,
   "metadata": {
    "collapsed": false
   },
   "outputs": [],
   "source": [
    "x = np.asarray(analitic)\n",
    "y = np.asarray(derivate)\n",
    "a = np.subtract(x,y)"
   ]
  },
  {
   "cell_type": "markdown",
   "metadata": {},
   "source": [
    "Para poder comparar de mejor forma los datos, y dado que éstos presentan una gran varianza, preferí hacer una transformación del espacio de valores usando logaritmo. Sin embargo, existen números negativos, por lo tanto, fue necesario realizar una transformación un poco diferente, que es la que se explica a continuación.\n",
    "### Translate, then Transform\n",
    "A common technique for handling negative values is to add a constant value to the data prior to applying the log transform. The transformation is therefore log(Y+a) where a is the constant. Some people like to choose a so that min(Y+a) is a very small positive number (like 0.001). Others choose a so that min(Y+a) = 1. For the latter choice, you can show that a = b – min(Y), where b is either a small number or is 1."
   ]
  },
  {
   "cell_type": "code",
   "execution_count": 146,
   "metadata": {
    "collapsed": true
   },
   "outputs": [],
   "source": [
    "LogY = np.log(y + 1 - np.min(y))\n",
    "LogX = np.log(x + 1 - np.min(x))\n",
    "LogA = np.log(a + 1 - np.min(a))\n"
   ]
  },
  {
   "cell_type": "code",
   "execution_count": 149,
   "metadata": {
    "collapsed": false
   },
   "outputs": [
    {
     "data": {
      "image/png": "[encoded data removed]",
      "text/plain": [
       "<matplotlib.figure.Figure at 0x109ecd150>"
      ]
     },
     "metadata": {},
     "output_type": "display_data"
    }
   ],
   "source": [
    "plt.figure()\n",
    "for i in range(4):\n",
    "    plt.subplot(2,4,i+1)\n",
    "    plt.plot(LogX[i],'r')\n",
    "    plt.plot(LogY[i],'g')\n",
    "    plt.subplot(2,4,i+5)\n",
    "    plt.plot(LogA[i],'g')\n",
    "plt.show()\n"
   ]
  },
  {
   "cell_type": "markdown",
   "metadata": {},
   "source": [
    "En los paneles superiores se muestran los resultados de salida para ambas simulaciones.  \n",
    "Los paneles inferiores muestran el error entre las simulaciones.  Notar que se está graficando $\\log{(y_i + 1 -min(Y))}$"
   ]
  },
  {
   "cell_type": "code",
   "execution_count": 147,
   "metadata": {
    "collapsed": false
   },
   "outputs": [
    {
     "data": {
      "image/png": "[encoded data removed]",
      "text/plain": [
       "<matplotlib.figure.Figure at 0x1084aac50>"
      ]
     },
     "metadata": {},
     "output_type": "display_data"
    },
    {
     "data": {
      "image/png": "[encoded data removed]",
      "text/plain": [
       "<matplotlib.figure.Figure at 0x108027710>"
      ]
     },
     "metadata": {},
     "output_type": "display_data"
    },
    {
     "data": {
      "image/png": "[encoded data removed]",
      "text/plain": [
       "<matplotlib.figure.Figure at 0x107f09490>"
      ]
     },
     "metadata": {},
     "output_type": "display_data"
    }
   ],
   "source": [
    "plt.imshow(LogY, cmap='jet')\n",
    "plt.show()\n",
    "plt.imshow(LogX)\n",
    "plt.show()\n",
    "plt.imshow(LogA)\n",
    "plt.show()"
   ]
  },
  {
   "cell_type": "markdown",
   "metadata": {},
   "source": [
    "El heatmap superior muestra los valores obtenidos empleando la derivada.\n",
    "El heatmap del medio muestra los valores obtenidos empleando el método de la ecuación explícita.\n",
    "El heatmap inferior muestra el error entre ambos métodos\n",
    "\n",
    "Sin embargo, aún no es posible establecer si los datos difieren mucho entre ellos o no. Para compararlos, se realizará un ajuste por mínimos cuadrados.  La hipótesis es que los datos de la ecuación analítica son MUY semejantes a los datos entregados por el método de la derivada.  Para ello, se analizará el valor de la pendiente $(\\hat{\\alpha})$ y el intercepto $(\\hat{\\beta})$.  \n",
    "Idealmente, $\\hat{\\alpha} = 1$ y $\\hat{\\beta}=0$, donde $Y = \\hat{\\alpha}X + \\hat{\\beta}$"
   ]
  },
  {
   "cell_type": "code",
   "execution_count": 201,
   "metadata": {
    "collapsed": false
   },
   "outputs": [
    {
     "data": {
      "image/png": "[encoded data removed]",
      "text/plain": [
       "<matplotlib.figure.Figure at 0x109921950>"
      ]
     },
     "metadata": {},
     "output_type": "display_data"
    },
    {
     "data": {
      "image/png": "[encoded data removed]",
      "text/plain": [
       "<matplotlib.figure.Figure at 0x109d46fd0>"
      ]
     },
     "metadata": {},
     "output_type": "display_data"
    }
   ],
   "source": [
    "alfa =[]\n",
    "beta = []\n",
    "\n",
    "for i in range(4):\n",
    "    a = (np.cov(x[i],y[i])[1][1])/np.var(x[i])\n",
    "    b = np.mean(y[i]) - a*np.mean(x[i])\n",
    "    alfa.append(a)\n",
    "    beta.append(b)\n",
    "samples = np.arange(len(alfa))\n",
    "\n",
    "plt.bar(samples,alfa)\n",
    "plt.show()\n",
    "plt.bar(samples,beta)\n",
    "plt.show()"
   ]
  },
  {
   "cell_type": "code",
   "execution_count": 202,
   "metadata": {
    "collapsed": false
   },
   "outputs": [
    {
     "name": "stdout",
     "output_type": "stream",
     "text": [
      "1.04350772656\n",
      "-0.362699135953\n"
     ]
    }
   ],
   "source": [
    "print np.mean(alfa)\n",
    "print np.mean(beta)"
   ]
  },
  {
   "cell_type": "markdown",
   "metadata": {},
   "source": [
    "Se observa que los datos no son exactos.  Si bien el método de la ecuación analítica entrega un resultado bastante aproximado, no es 100% preciso. Esto es debido a un error entregado en la simulación usando la ecuación analítica. NEURON parece no poder calcular $\\exp(k), k<700$.  Debido a esto, aproximó ciertos valores en la exponencial.  \n",
    "\n",
    "Sin embargo, conviene además tomar en cuenta los tiempos requeridos para cada cálculo."
   ]
  },
  {
   "cell_type": "code",
   "execution_count": 244,
   "metadata": {
    "collapsed": false
   },
   "outputs": [
    {
     "data": {
      "image/png": "[encoded data removed]",
      "text/plain": [
       "<matplotlib.figure.Figure at 0x108c41a90>"
      ]
     },
     "metadata": {},
     "output_type": "display_data"
    },
    {
     "name": "stdout",
     "output_type": "stream",
     "text": [
      "diferencia en tiempo de ejecucion: 575.3952601 [s]\n"
     ]
    }
   ],
   "source": [
    "import numpy as np\n",
    "import matplotlib.pyplot as plt\n",
    "%matplotlib inline\n",
    "tiempos = [2387.99236989, 1812.59710979]\n",
    "objects = ('Derivative', 'Analytic')\n",
    "y_pos = np.arange(len(objects))\n",
    "\n",
    "plt.bar(y_pos, run_time, align='center', alpha=0.5)\n",
    "plt.xticks(y_pos, objects)\n",
    "plt.ylabel('Tiempo(s)')\n",
    "plt.title('Metodo utilizado')\n",
    "plt.show()\n",
    "print \"diferencia en tiempo de ejecucion: %s [s]\" %(tiempos[0] - tiempos[1])\n"
   ]
  },
  {
   "cell_type": "code",
   "execution_count": 223,
   "metadata": {
    "collapsed": false
   },
   "outputs": [
    {
     "data": {
      "image/png": "[encoded data removed]",
      "text/plain": [
       "<matplotlib.figure.Figure at 0x109a59290>"
      ]
     },
     "metadata": {},
     "output_type": "display_data"
    },
    {
     "name": "stdout",
     "output_type": "stream",
     "text": [
      "diferencia en tiempo de ejecucion: 33.60468151 [h]\n"
     ]
    }
   ],
   "source": [
    "theoric_full_sim_derivate = (29*29*tiempos[0]/4)/3600\n",
    "theoric_full_sim_analitic = (29*29*tiempos[1]/4)/3600\n",
    "\n",
    "theoric = [theoric_full_sim_derivate, theoric_full_sim_analitic]\n",
    "objects = ('Derivative', 'Analytic')\n",
    "y_pos = np.arange(len(objects))\n",
    "\n",
    "plt.bar(y_pos, theoric, align='center', alpha=0.5)\n",
    "plt.xticks(y_pos, objects)\n",
    "plt.ylabel('Tiempo(H)')\n",
    "plt.title('Estimacion duracion calculo algoritmos')\n",
    "plt.show()\n",
    "print \"diferencia en tiempo de ejecucion: %s [h]\" %(theoric[0] - theoric[1])\n"
   ]
  },
  {
   "cell_type": "markdown",
   "metadata": {},
   "source": [
    "# <center> Avances al 14 de Febrero 2017 </center>\n",
    "\n",
    "* Simulación con la grilla de 29x29 en el cluster CINV, usando el método de la derivada. iniciado a las 01:43"
   ]
  },
  {
   "cell_type": "code",
   "execution_count": null,
   "metadata": {
    "collapsed": true
   },
   "outputs": [],
   "source": []
  }
 ],
 "metadata": {
  "anaconda-cloud": {},
  "kernelspec": {
   "display_name": "Python [default]",
   "language": "python",
   "name": "python2"
  },
  "language_info": {
   "codemirror_mode": {
    "name": "ipython",
    "version": 2
   },
   "file_extension": ".py",
   "mimetype": "text/x-python",
   "name": "python",
   "nbconvert_exporter": "python",
   "pygments_lexer": "ipython2",
   "version": "2.7.12"
  }
 },
 "nbformat": 4,
 "nbformat_minor": 1
}
